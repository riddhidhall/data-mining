{
 "cells": [
  {
   "cell_type": "code",
   "execution_count": null,
   "metadata": {},
   "outputs": [],
   "source": [
    "'''\n",
    "This notebook focuses on pre-processing and creating a baseline model to improve upon\n",
    "Pre-processing includes:\n",
    " - Dummy encoding\n",
    " - Imputation\n",
    " - Removal of columns with high missing variables\n",
    "\n",
    "Logistic regression model applied (no optimisation)\n",
    "Accuracy -> ___%\n",
    "'''"
   ]
  },
  {
   "cell_type": "code",
   "execution_count": 1,
   "metadata": {},
   "outputs": [],
   "source": [
    "# numpy and pandas for data manipulation\n",
    "import warnings\n",
    "\n",
    "import numpy as np\n",
    "import pandas as pd\n",
    "from sklearn.preprocessing import LabelEncoder\n",
    "from sklearn.preprocessing import MinMaxScaler, Imputer\n",
    "\n",
    "warnings.filterwarnings('ignore')\n",
    "import matplotlib.pyplot as plt\n",
    "import pickle\n",
    "from sklearn.linear_model import LogisticRegression\n",
    "\n",
    "from sklearn.model_selection import RandomizedSearchCV\n",
    "from scipy.stats import uniform\n",
    "from sklearn.linear_model import LogisticRegression\n",
    "\n",
    "from sklearn.metrics import roc_curve, auc\n",
    "from sklearn.model_selection import StratifiedKFold\n",
    "from scipy import interp\n",
    "\n",
    "import statsmodels.api as sm\n",
    "from sklearn.neighbors import KNeighborsRegressor\n"
   ]
  },
  {
   "cell_type": "code",
   "execution_count": 2,
   "metadata": {},
   "outputs": [],
   "source": [
    "def save_pickle(path, data):\n",
    "    # pickles the tokens dict\n",
    "    with open(path, \"wb\") as f:\n",
    "        pickle.dump(data, f)\n",
    "    print(\"File saved at \", path)\n",
    "\n",
    "\n",
    "def load_pickle(path):\n",
    "    # loads the tokens dict from directory\n",
    "    with open(path, \"rb\") as f:\n",
    "        return pickle.load(f)\n",
    "    print(\"File loaded: \", path)"
   ]
  },
  {
   "cell_type": "code",
   "execution_count": 3,
   "metadata": {},
   "outputs": [
    {
     "name": "stdout",
     "output_type": "stream",
     "text": [
      "Training data shape:  (307511, 122)\n",
      "Testing data shape:  (48744, 121)\n"
     ]
    }
   ],
   "source": [
    "def load_training_data():\n",
    "    app_train = pd.read_csv('../input/application_train.csv')\n",
    "    print('Training data shape: ', app_train.shape)\n",
    "    return app_train\n",
    "\n",
    "\n",
    "def load_test_data():\n",
    "    # Testing data features\n",
    "    app_test = pd.read_csv('../input/application_test.csv')\n",
    "    print('Testing data shape: ', app_test.shape)\n",
    "    return app_test\n",
    "\n",
    "train_data = load_training_data()\n",
    "test_data = load_test_data()"
   ]
  },
  {
   "cell_type": "code",
   "execution_count": 4,
   "metadata": {},
   "outputs": [
    {
     "ename": "TypeError",
     "evalue": "'NoneType' object is not iterable",
     "output_type": "error",
     "traceback": [
      "\u001b[1;31m---------------------------------------------------------------------------\u001b[0m",
      "\u001b[1;31mTypeError\u001b[0m                                 Traceback (most recent call last)",
      "\u001b[1;32m<ipython-input-4-8a8b7b0405ca>\u001b[0m in \u001b[0;36m<module>\u001b[1;34m()\u001b[0m\n\u001b[0;32m     19\u001b[0m                 \u001b[0mle_count\u001b[0m \u001b[1;33m+=\u001b[0m \u001b[1;36m1\u001b[0m\u001b[1;33m\u001b[0m\u001b[0m\n\u001b[0;32m     20\u001b[0m \u001b[1;33m\u001b[0m\u001b[0m\n\u001b[1;32m---> 21\u001b[1;33m \u001b[0mtrain_data\u001b[0m\u001b[1;33m,\u001b[0m \u001b[0mtest_data\u001b[0m \u001b[1;33m=\u001b[0m \u001b[0mencode_binary_cols\u001b[0m\u001b[1;33m(\u001b[0m\u001b[0mtrain_data\u001b[0m\u001b[1;33m,\u001b[0m \u001b[0mtest_data\u001b[0m\u001b[1;33m)\u001b[0m\u001b[1;33m\u001b[0m\u001b[0m\n\u001b[0m",
      "\u001b[1;31mTypeError\u001b[0m: 'NoneType' object is not iterable"
     ]
    }
   ],
   "source": [
    "def encode_binary_cols(app_train, app_test):\n",
    "    # Create a label encoder object\n",
    "    le = LabelEncoder()\n",
    "    le_count = 0\n",
    "    encoded_cols = []\n",
    "    # Iterate through the columns\n",
    "    for col in app_train:\n",
    "        if app_train[col].dtype == 'object':\n",
    "            # If 2 or fewer unique categories (a nan will count as a category)\n",
    "            if len(list(app_train[col].unique())) <= 2:\n",
    "                # Train on the training data\n",
    "                le.fit(app_train[col])\n",
    "                # Transform both training and testing data\n",
    "                app_train[col] = le.transform(app_train[col])\n",
    "                app_test[col] = le.transform(app_test[col])\n",
    "                encoded_cols.append(col)\n",
    "\n",
    "                # Keep track of how many columns were label encoded\n",
    "                le_count += 1\n",
    "                \n",
    "train_data, test_data = encode_binary_cols(train_data, test_data)"
   ]
  },
  {
   "cell_type": "code",
   "execution_count": 20,
   "metadata": {},
   "outputs": [
    {
     "name": "stdout",
     "output_type": "stream",
     "text": [
      "ONE HOT ENCODED\n",
      "Training Features shape:  (307511, 244)\n",
      "Testing Features shape:  (48744, 240)\n"
     ]
    }
   ],
   "source": [
    "def one_hot_encode(app_train, app_test):\n",
    "    # one-hot encoding of categorical variables\n",
    "    # Dummy encoding will not create a column for nans\n",
    "    app_train = pd.get_dummies(app_train)\n",
    "    app_test = pd.get_dummies(app_test)\n",
    "\n",
    "    print(\"ONE HOT ENCODED\")\n",
    "    print('Training Features shape: ', app_train.shape)\n",
    "    print('Testing Features shape: ', app_test.shape)\n",
    "    return app_train, app_test\n",
    "\n",
    "train_data, test_data = one_hot_encode(train_data, test_data)"
   ]
  },
  {
   "cell_type": "code",
   "execution_count": 21,
   "metadata": {},
   "outputs": [
    {
     "name": "stdout",
     "output_type": "stream",
     "text": [
      "ALIGNED:\n",
      "Training Features shape:  (307511, 241)\n",
      "Testing Features shape:  (48744, 240)\n"
     ]
    }
   ],
   "source": [
    "def align_data(app_train, app_test):\n",
    "    # ALIGN TEST AND TRAIN DATAFRAMES SO COLUMNS MATCH\n",
    "    train_labels = app_train['TARGET']\n",
    "\n",
    "    # Align the training and testing data, keep only columns present in both dataframes\n",
    "    app_train, app_test = app_train.align(app_test, join='inner', axis=1)\n",
    "\n",
    "    # Add the target back in\n",
    "    app_train['TARGET'] = train_labels\n",
    "\n",
    "    print(\"ALIGNED:\")\n",
    "    print('Training Features shape: ', app_train.shape)\n",
    "    print('Testing Features shape: ', app_test.shape)\n",
    "    return app_train, app_test, train_labels\n",
    "\n",
    "train_data, test_data, train_Y = align_data(train_data, test_data)"
   ]
  },
  {
   "cell_type": "code",
   "execution_count": 22,
   "metadata": {},
   "outputs": [
    {
     "name": "stdout",
     "output_type": "stream",
     "text": [
      "There were 0 anomalies in the test data out of 48744 entries\n"
     ]
    },
    {
     "data": {
      "image/png": "[encoded data removed]",
      "text/plain": [
       "<Figure size 432x288 with 1 Axes>"
      ]
     },
     "metadata": {},
     "output_type": "display_data"
    }
   ],
   "source": [
    "def remove_days_employed_anomaly(app_train, app_test):\n",
    "    # DEALING WITH ANOMALOUS DATA IN 'DAYS_EMPLOYED' COL\n",
    "\n",
    "    # Create an anomalous flag column\n",
    "    app_train['DAYS_EMPLOYED_ANOM'] = app_train[\"DAYS_EMPLOYED\"] == 365243\n",
    "    # Replace the anomalous values with nan\n",
    "    app_train['DAYS_EMPLOYED'].replace({365243: np.nan}, inplace=True)\n",
    "\n",
    "    app_train['DAYS_EMPLOYED'].plot.hist(title='Days Employment Histogram');\n",
    "    plt.xlabel('Days Employment');\n",
    "\n",
    "    app_test['DAYS_EMPLOYED_ANOM'] = app_test[\"DAYS_EMPLOYED\"] == 365243\n",
    "    app_test[\"DAYS_EMPLOYED\"].replace({365243: np.nan}, inplace=True)\n",
    "\n",
    "    print('There were %d anomalies in the test data out of %d entries' % (\n",
    "        app_test[\"DAYS_EMPLOYED_ANOM\"].sum(), len(app_test)))\n",
    "    return app_train, app_test\n",
    "\n",
    "train_data, test_data = remove_days_employed_anomaly(train_data, test_data)"
   ]
  },
  {
   "cell_type": "code",
   "execution_count": 30,
   "metadata": {},
   "outputs": [
    {
     "name": "stdout",
     "output_type": "stream",
     "text": [
      "IMPUTED AND NORMALISED\n",
      "Training data shape:  (307511, 239)\n",
      "Testing data shape:  (48744, 239)\n"
     ]
    }
   ],
   "source": [
    "def normalise_and_impute(app_train, app_test, impute_strategy='mean'):\n",
    "    # Drop the target from the training data\n",
    "    if 'TARGET' in app_train:\n",
    "        train = app_train.drop(columns=['TARGET'])\n",
    "    else:\n",
    "        train = app_train.copy()\n",
    "    train = train.drop(columns=['SK_ID_CURR'])  #\n",
    "\n",
    "    test = app_test.copy()\n",
    "    test = test.drop(columns=['SK_ID_CURR'])  #\n",
    "\n",
    "    # Feature names\n",
    "    features = list(train.columns)\n",
    "\n",
    "    # Median imputation of missing values\n",
    "    imputer = Imputer(strategy=impute_strategy)\n",
    "    # Fit on the training data\n",
    "    imputer.fit(train)\n",
    "    # Transform both training and testing data\n",
    "    train = imputer.transform(train)\n",
    "    test = imputer.transform(test)  ### test was app_test\n",
    "\n",
    "    # Normalise\n",
    "    scaler = MinMaxScaler(feature_range=(0, 1))  # Scale each feature to 0-1\n",
    "    scaler.fit(train)\n",
    "    train = scaler.transform(train)\n",
    "    test = scaler.transform(test)\n",
    "\n",
    "    print(\"IMPUTED AND NORMALISED\")\n",
    "    print('Training data shape: ', train.shape)\n",
    "    print('Testing data shape: ', test.shape)\n",
    "    return train, test, features\n",
    "\n",
    "# train_X and test_X are np arrays\n",
    "# train_X, test_X, feature_names = normalise_and_impute(train_data, test_data, impute_strategy='mean')"
   ]
  },
  {
   "cell_type": "code",
   "execution_count": 8,
   "metadata": {},
   "outputs": [],
   "source": [
    "def create_and_save_submission(app_test, predictions, save_path):\n",
    "    # Submission dataframe\n",
    "    submit = app_test[['SK_ID_CURR']]\n",
    "    submit['TARGET'] = predictions\n",
    "\n",
    "    # Save the submission to a csv file\n",
    "    submit.to_csv(save_path, index=False)\n",
    "    print(\"Predictions saved to: \", save_path)"
   ]
  },
  {
   "cell_type": "code",
   "execution_count": 9,
   "metadata": {},
   "outputs": [],
   "source": [
    "def baseline_log_reg(train, train_Y, test, save_path):\n",
    "    # Make the model with the specified regularization parameter\n",
    "    log_reg = LogisticRegression(C=0.0001)\n",
    "\n",
    "    # Train on the training data\n",
    "    log_reg.fit(train, train_Y)\n",
    "\n",
    "    # Make predictions - only require 2nd columns (representing the probability that the target is 1)\n",
    "    log_reg_pred = log_reg.predict_proba(test)[:, 1]\n",
    "\n",
    "    # Save model\n",
    "    save_pickle(\"../models/log_reg_new.pickle\", log_reg)  # save model\n",
    "    print(\"Log reg baseline model saved to: \", save_path)\n",
    "    return log_reg, log_reg_pred\n",
    "\n",
    "# model, preds = baseline_log_reg(train_X, train_Y, test_X, save_path=\"../models/test.pickle\")\n",
    "# create_and_save_submission(test_data, preds, save_path='../test_predictions/test.csv')"
   ]
  },
  {
   "cell_type": "code",
   "execution_count": 10,
   "metadata": {},
   "outputs": [],
   "source": [
    "def random_search_log_reg(train, train_Y, test, save_path):\n",
    "    '''\n",
    "    Mean imputation\n",
    "    Best Penalty: l2\n",
    "    Best C: 1.668088018810296\n",
    "    test acc -> 0.73846\n",
    "    '''\n",
    "    model = LogisticRegression()\n",
    "\n",
    "    # Search parameters and search space\n",
    "    penalty = ['l1', 'l2']\n",
    "    C = uniform(loc=0, scale=4)\n",
    "    hyperparameters = dict(C=C, penalty=penalty)\n",
    "\n",
    "    # Create randomized search 5-fold cross validation and 100 iterations\n",
    "    clf = RandomizedSearchCV(model, hyperparameters, random_state=1, n_iter=5, cv=5, verbose=1)\n",
    "    # Fit randomized search\n",
    "    best_model = clf.fit(train, train_Y)\n",
    "\n",
    "    print('Best Penalty:', best_model.best_estimator_.get_params()['penalty'])\n",
    "    print('Best C:', best_model.best_estimator_.get_params()['C'])\n",
    "\n",
    "    predictions = best_model.predict_proba(test)[:, 1]\n",
    "\n",
    "    # Save model\n",
    "    save_pickle(\"../models/log_reg_new.pickle\", model)  # save model\n",
    "    print(\"Log reg baseline model saved to: \", save_path)\n",
    "\n",
    "    return model, predictions\n",
    "\n",
    "# model, preds = random_search_log_reg(train_X, train_Y, test_X, save_path=\"../models/test.pickle\")\n",
    "# create_and_save_submission(test_data, preds, save_path='../test_predictions/test.csv')"
   ]
  },
  {
   "cell_type": "code",
   "execution_count": null,
   "metadata": {},
   "outputs": [
    {
     "name": "stdout",
     "output_type": "stream",
     "text": [
      "IMPUTED AND NORMALISED\n",
      "Training data shape:  (307511, 239)\n",
      "Testing data shape:  (48744, 239)\n",
      "Run 0 AUC socre: 0.7455418539019963\n",
      "Run 1 AUC socre: 0.7482204392069075\n",
      "Run 2 AUC socre: 0.7434560943702402\n",
      "Run 3 AUC socre: 0.7437869495647487\n"
     ]
    }
   ],
   "source": [
    "def cross_val_roc_curve(train_X, train_Y, classifier):\n",
    "    # From https://scikit-learn.org/stable/auto_examples/model_selection/plot_roc_crossval.html\n",
    "\n",
    "    # ROC AUC with stratified cross validation\n",
    "    X = train_X\n",
    "    y = train_Y\n",
    "\n",
    "    cv = StratifiedKFold(n_splits=6, shuffle=True)\n",
    "    tprs = []  # true positive rate scores\n",
    "    aucs = []  # area under curve scores\n",
    "    mean_fpr = np.linspace(0, 1, 100)  # mean false positive rates\n",
    "\n",
    "    i = 0\n",
    "    # train and test for each fold\n",
    "    for train_sample, test_sample in cv.split(X, y):\n",
    "        probas_ = classifier.fit(X[train_sample], y[train_sample]).predict_proba(X[test_sample])\n",
    "        # Compute ROC curve and area the curve\n",
    "        fpr, tpr, thresholds = roc_curve(y[test_sample], probas_[:, 1])\n",
    "        tprs.append(interp(mean_fpr, fpr, tpr))\n",
    "        tprs[-1][0] = 0.0\n",
    "        roc_auc = auc(fpr, tpr)\n",
    "        aucs.append(roc_auc)\n",
    "        print(\"Run {} AUC socre: {}\".format(i, roc_auc))\n",
    "\n",
    "        '''Everything below this point is just for the plot'''\n",
    "        plt.plot(fpr, tpr, lw=1, alpha=0.3,\n",
    "                 label='ROC fold %d (AUC = %0.2f)' % (i, roc_auc))\n",
    "\n",
    "        i += 1\n",
    "    # plot roc curve for fold\n",
    "    plt.plot([0, 1], [0, 1], linestyle='--', lw=2, color='r',\n",
    "             label='Chance', alpha=.8)\n",
    "\n",
    "    # caluclate and plot mean auc\n",
    "    mean_tpr = np.mean(tprs, axis=0)\n",
    "    mean_tpr[-1] = 1.0\n",
    "    mean_auc = auc(mean_fpr, mean_tpr)\n",
    "    std_auc = np.std(aucs)\n",
    "    plt.plot(mean_fpr, mean_tpr, color='b',\n",
    "             label=r'Mean ROC (AUC = %0.2f $\\pm$ %0.2f)' % (mean_auc, std_auc),\n",
    "             lw=2, alpha=.8)\n",
    "\n",
    "    # plot standard deviation area\n",
    "    std_tpr = np.std(tprs, axis=0)\n",
    "    tprs_upper = np.minimum(mean_tpr + std_tpr, 1)\n",
    "    tprs_lower = np.maximum(mean_tpr - std_tpr, 0)\n",
    "    plt.fill_between(mean_fpr, tprs_lower, tprs_upper, color='grey', alpha=.2,\n",
    "                     label=r'$\\pm$ 1 std. dev.')\n",
    "\n",
    "    # add labels to plot\n",
    "    plt.xlim([-0.05, 1.05])\n",
    "    plt.ylim([-0.05, 1.05])\n",
    "    plt.xlabel('False Positive Rate')\n",
    "    plt.ylabel('True Positive Rate')\n",
    "    plt.title('Receiver operating characteristic example')\n",
    "    plt.legend(loc=\"lower right\")\n",
    "\n",
    "    print(\"Avg ROC AUC score: {}\".format(np.mean(aucs)))\n",
    "\n",
    "# model = load_pickle(\"../models/log_reg_new.pickle\")\n",
    "# train_X, test_X, feature_names = normalise_and_impute(train_data, test_data, impute_strategy='mean')\n",
    "# cross_val_roc_curve(train_X, train_Y, model) "
   ]
  },
  {
   "cell_type": "code",
   "execution_count": 13,
   "metadata": {},
   "outputs": [
    {
     "name": "stdout",
     "output_type": "stream",
     "text": [
      "Optimization terminated successfully.\n",
      "         Current function value: 0.274561\n",
      "         Iterations 7\n",
      "Selected Feature EXT_SOURCE_3\n",
      "AIC 168863.02936295504\n",
      "BIC 168873.66562909298\n"
     ]
    }
   ],
   "source": [
    "def feature_aic_bic(app_train, feature_name: str):\n",
    "    # calculates the aic and bic values between the target and a column\n",
    "    # http://www.differencebetween.net/miscellaneous/difference-between-aic-and-bic/\n",
    "\n",
    "    data = app_train.copy()\n",
    "    data = data[[feature_name, \"TARGET\"]]\n",
    "\n",
    "    # Median imputation of missing values\n",
    "    imputer = Imputer(strategy='mean')\n",
    "    imputer.fit(data)\n",
    "    imputed_data = imputer.transform(data)\n",
    "    data[feature_name] = imputed_data\n",
    "\n",
    "    data[\"intercept\"] = 1.0\n",
    "    logit = sm.Logit(data[\"TARGET\"], data[feature_name])\n",
    "    result = logit.fit()\n",
    "\n",
    "    # result.summary2() # uncomment for full summary\n",
    "    print(\"Selected Feature\", feature_name)\n",
    "    print(\"AIC\", result.aic)\n",
    "    print(\"BIC\", result.bic)\n",
    "\n",
    "    # 168863, 0.274561 - ext3 mean\n",
    "model = load_pickle(\"../models/log_reg_opt.pickle\")\n",
    "feature_aic_bic(train_data, \"EXT_SOURCE_3\")"
   ]
  },
  {
   "cell_type": "code",
   "execution_count": 49,
   "metadata": {},
   "outputs": [],
   "source": [
    "def imputed_col_aic(data, feature_name):\n",
    "#     data[\"intercept\"] = 1.0\n",
    "    logit = sm.Logit(data[\"TARGET\"], data[feature_name])\n",
    "    result = logit.fit()\n",
    "    print(\"AIC\", result.aic)"
   ]
  },
  {
   "cell_type": "code",
   "execution_count": 15,
   "metadata": {},
   "outputs": [],
   "source": [
    "def get_top_correlations(app_train, feature, n=15):\n",
    "    correlations = app_train.corr()[feature]\n",
    "    correlations = abs(correlations).sort_values().tail(\n",
    "        n)  # sort by correlation value (regardless if it's positive or negative)\n",
    "    correlations = correlations.dropna()  # drop nans\n",
    "    correlations = correlations.drop(labels=[feature, 'TARGET'])  # remove corr to itself and target\n",
    "    return correlations.keys()\n",
    "\n"
   ]
  },
  {
   "cell_type": "code",
   "execution_count": 27,
   "metadata": {},
   "outputs": [],
   "source": [
    "def top_corr_knn_imputation(top_corrs, feature: str, app_train, app_test):\n",
    "#     top_corrs = get_top_correlations(train_data, feature, n=10)  # TODO -> uncomment once working\n",
    "\n",
    "    # create training data from columns with values\n",
    "    not_null_mask = app_train[feature].notna()  # true if not nan = mask to get the values to train on\n",
    "    train_x = app_train[not_null_mask][\n",
    "        top_corrs]  # get all top corr cols (minus target) which have a ext_source_3 value\n",
    "    train_y = app_train[not_null_mask][[feature]]\n",
    "\n",
    "    # imputation of missing values for the other columns\n",
    "    imputer = Imputer(strategy='mean')\n",
    "    train_x = imputer.fit_transform(train_x)\n",
    "\n",
    "    # get the rows which require imputation\n",
    "    test_x = app_train[app_train[feature].isna()][top_corrs]  # only null values\n",
    "    imputer = Imputer(strategy='mean')\n",
    "    test_x = imputer.fit_transform(test_x)\n",
    "\n",
    "    # as above but for the app_test data\n",
    "    app_test_x = app_test[app_test[feature].isna()][top_corrs]  # only null values\n",
    "    imputer = Imputer(strategy='mean')\n",
    "    app_test_x = imputer.fit_transform(app_test_x)\n",
    "\n",
    "    # train and predict\n",
    "    neigh = KNeighborsRegressor(n_neighbors=150)\n",
    "    neigh.fit(train_x, train_y)\n",
    "    y_test = neigh.predict(test_x)\n",
    "    y_app_test = neigh.predict(app_test_x)\n",
    "\n",
    "    # get the column to update nulls\n",
    "    filled_col = app_train[[feature]]\n",
    "    filled_col[filled_col[feature].isna()] = y_test\n",
    "    # fill column\n",
    "    data = app_train.copy()\n",
    "    data[feature] = filled_col\n",
    "\n",
    "    # get the column to update nulls for app_test\n",
    "    filled_col_app_test = app_test[[feature]]\n",
    "    filled_col_app_test[filled_col_app_test[feature].isna()] = y_app_test\n",
    "    # fill column\n",
    "    data_app_test = app_test.copy()\n",
    "    data_app_test[feature] = filled_col_app_test\n",
    "\n",
    "    imputed_col_aic(data, feature)\n",
    "    return data, data_app_test"
   ]
  },
  {
   "cell_type": "code",
   "execution_count": 53,
   "metadata": {},
   "outputs": [],
   "source": [
    "top_corrs = get_top_correlations(train_data, 'EXT_SOURCE_3', n=15)"
   ]
  },
  {
   "cell_type": "code",
   "execution_count": 52,
   "metadata": {},
   "outputs": [
    {
     "name": "stdout",
     "output_type": "stream",
     "text": [
      "Optimization terminated successfully.\n",
      "         Current function value: 0.273478\n",
      "         Iterations 7\n",
      "AIC 168196.7461043481\n",
      "IMPUTED AND NORMALISED\n",
      "Training data shape:  (307511, 239)\n",
      "Testing data shape:  (48744, 239)\n",
      "File saved at  ../models/log_reg_new.pickle\n",
      "Log reg baseline model saved to:  ../models/test.pickle\n",
      "Predictions saved to:  ../test_predictions/test.csv\n"
     ]
    }
   ],
   "source": [
    "def log_reg_knn_imputation(top_corrs, feat_name, app_train, app_test, model_save_path, predications_save_path):\n",
    "#     top_corrs = get_top_correlations(train_data, 'EXT_SOURCE_3', n=15)\n",
    "    train_Y = app_train['TARGET']\n",
    "    train_X, test_X = top_corr_knn_imputation(top_corrs, feat_name, app_train, app_test)\n",
    "    train_X, test_X, feat_names = normalise_and_impute(train_X, test_X,\n",
    "                                                       impute_strategy='mean')\n",
    "\n",
    "    model, preds = baseline_log_reg(train_X, train_Y, test_X, save_path=model_save_path)\n",
    "    create_and_save_submission(test_data, preds, save_path=predications_save_path)\n",
    "\n",
    "    \n",
    "log_reg_knn_imputation(top_corrs, 'EXT_SOURCE_3', train_data, test_data,\n",
    "                       model_save_path=\"../models/test.pickle\",\n",
    "                       predications_save_path='../test_predictions/test.csv') \n",
    "# test score -> 0.67843 (using baseline params)"
   ]
  }
 ],
 "metadata": {
  "kernelspec": {
   "display_name": "Python 3",
   "language": "python",
   "name": "python3"
  },
  "language_info": {
   "codemirror_mode": {
    "name": "ipython",
    "version": 3
   },
   "file_extension": ".py",
   "mimetype": "text/x-python",
   "name": "python",
   "nbconvert_exporter": "python",
   "pygments_lexer": "ipython3",
   "version": "3.6.5"
  }
 },
 "nbformat": 4,
 "nbformat_minor": 2
}
