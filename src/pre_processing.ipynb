{
 "cells": [
  {
   "cell_type": "code",
   "execution_count": 1,
   "metadata": {},
   "outputs": [],
   "source": [
    "# imports\n",
    "from utils import *\n",
    "from models import *"
   ]
  },
  {
   "cell_type": "code",
   "execution_count": 104,
   "metadata": {},
   "outputs": [],
   "source": []
  },
  {
   "cell_type": "code",
   "execution_count": 147,
   "metadata": {},
   "outputs": [
    {
     "name": "stdout",
     "output_type": "stream",
     "text": [
      "DAYS_BIRTH True\n",
      "DAYS_EMPLOYED False\n",
      "DAYS_REGISTRATION True\n",
      "DAYS_ID_PUBLISH True\n",
      "DAYS_LAST_PHONE_CHANGE True\n"
     ]
    },
    {
     "data": {
      "text/plain": [
       "'\\nDAYS_BIRTH True\\nDAYS_EMPLOYED False -> need to deal with anomalies first\\nDAYS_REGISTRATION True\\nDAYS_ID_PUBLISH True\\nDAYS_LAST_PHONE_CHANGE False -> \\n'"
      ]
     },
     "execution_count": 147,
     "metadata": {},
     "output_type": "execute_result"
    }
   ],
   "source": [
    "def neg_days_to_years(df:pd.DataFrame):\n",
    "    # Converts all days columns to positive values with a years unit\n",
    "    # give dataframe in as a copy so it doesn't overwrite the original\n",
    "    for col in df:\n",
    "        if \"DAYS\" in col:\n",
    "            df[[col]] = -df[col]/365\n",
    "            print(col, (df[col].dropna()>=0).all())\n",
    "    return df\n",
    "\n",
    "df = neg_days_to_years(train_data.copy())\n",
    "'''\n",
    "DAYS_BIRTH True\n",
    "DAYS_EMPLOYED False -> need to deal with anomalies first\n",
    "DAYS_REGISTRATION True\n",
    "DAYS_ID_PUBLISH True\n",
    "DAYS_LAST_PHONE_CHANGE False -> gotta drop na's\n",
    "'''"
   ]
  },
  {
   "cell_type": "code",
   "execution_count": 111,
   "metadata": {},
   "outputs": [
    {
     "name": "stdout",
     "output_type": "stream",
     "text": [
      "Training data shape:  (307511, 122)\n",
      "AMT_INCOME_TOTAL              -4.504643\n",
      "AMT_CREDIT                     0.192082\n",
      "AMT_ANNUITY                    8.472136\n",
      "AMT_GOODS_PRICE                8.472136\n",
      "REGION_POPULATION_RELATIVE     0.269570\n",
      "CNT_FAM_MEMBERS                8.472136\n",
      "REGION_RATING_CLIENT           0.980739\n",
      "REGION_RATING_CLIENT_W_CITY    1.011818\n",
      "EXT_SOURCE_1                   8.472136\n",
      "EXT_SOURCE_2                   8.472136\n",
      "EXT_SOURCE_3                   8.472136\n",
      "Name: lambda, dtype: float64\n",
      "False\n"
     ]
    }
   ],
   "source": [
    "from scipy.stats import boxcox\n",
    "\n",
    "def box_cox_transform(df:pd.DataFrame, cols= None):\n",
    "    lambda_map = {}\n",
    "    for col in df:\n",
    "        if df[col].dtype != 'object' and (df[col].dropna() > 0).all() and col != 'SK_ID_CURR' :\n",
    "            df[[col]], lamda = boxcox(df[col])\n",
    "            lambda_map[col] = lamda\n",
    "    return df, lambda_map\n",
    "\n",
    "# def get_top_gbm_features(path, num_feats):\n",
    "#     # get the names of the top n features for gbm \n",
    "#     gbm_fi = load_pickle(path)\n",
    "#     top_feats =  gbm_fi.sort_values(by=[\"importance\"], ascending=False)[:num_feats]['feature'].values\n",
    "#     return top_feats\n",
    "    \n",
    "# top_gbm_feats = get_top_gbm_features(\"../misc/gbm_simple_feature_importances.pickle\", 20)\n",
    "\n",
    "train_data = load_training_data()\n",
    "train_boxcox, lambda_map = box_cox_transform(train_data.copy())\n",
    "print(pd.Series(lambda_map, name='lambda'))\n",
    "print((train_boxcox['EXT_SOURCE_1'].dropna() ==train_data['EXT_SOURCE_1'].dropna()).all()) # check for change"
   ]
  },
  {
   "cell_type": "code",
   "execution_count": null,
   "metadata": {},
   "outputs": [
    {
     "name": "stdout",
     "output_type": "stream",
     "text": [
      "Training data shape:  (307511, 122)\n",
      "Testing data shape:  (48744, 121)\n",
      "ONE HOT ENCODED\n",
      "Training Features shape:  (307511, 243)\n",
      "Testing Features shape:  (48744, 239)\n",
      "ALIGNED:\n",
      "Training Features shape:  (307511, 240)\n",
      "Testing Features shape:  (48744, 239)\n",
      "There were 9274 anomalies in the test data out of 48744 entries\n",
      "REMOVING COLUMNS WITH 0.68 MISSING VALUES\n",
      "Training Features shape:  (307511, 232)\n",
      "Testing Features shape:  (48744, 240)\n",
      "Training Features shape:  (307511, 232)\n",
      "Testing Features shape:  (48744, 231)\n"
     ]
    }
   ],
   "source": [
    "# do basic pre-processing\n",
    "def pre_process():\n",
    "    # read data\n",
    "    train_data = load_training_data()\n",
    "    test_data = load_test_data()\n",
    "    train_data, test_data = encode_binary_cols(train_data, test_data)\n",
    "    train_data, test_data = one_hot_encode(train_data, test_data)\n",
    "    train_data, test_data, train_Y = align_data(train_data, test_data)\n",
    "    train_data, test_data = remove_days_employed_anomaly(train_data, test_data)\n",
    "    train_data, test_data = remove_missing_cols(train_data, test_data)\n",
    "    \n",
    "    train_data = mean_impute(train_data)\n",
    "    test_data = mean_impute(test_data)\n",
    "\n",
    "    return train_data, test_data\n",
    "\n",
    "train_data, test_data = pre_process()"
   ]
  },
  {
   "cell_type": "code",
   "execution_count": 3,
   "metadata": {},
   "outputs": [],
   "source": [
    "from imblearn.over_sampling import SMOTE\n",
    "from imblearn.over_sampling import ADASYN \n",
    "\n",
    "def over_sample_SMOTE(X: pd.DataFrame, y: pd.DataFrame):\n",
    "    # training set only. Takes in as dataframe, and returns as np array\n",
    "    # only apply once all other pre-processing is done, but before normalisation\n",
    "\n",
    "    sm = SMOTE()\n",
    "    X, y = sm.fit_sample(X, y)\n",
    "    return X,y\n",
    "\n",
    "def over_sample_ADASYN(X: pd.DataFrame, y: pd.DataFrame):\n",
    "    # training set only. Takes in as dataframe, and returns as np array\n",
    "    # only apply once all other pre-processing is done, but before normalisation\n",
    "    sm = ADASYN()\n",
    "    X, y = sm.fit_sample(X, y)\n",
    "    return(X,y)\n",
    "\n",
    "def oversample(X: pd.DataFrame, y: pd.DataFrame, technique: str = 'adasyn'):\n",
    "    if technique is 'adasyn':\n",
    "        os_method = ADASYN()\n",
    "    elif technique is 'smote':\n",
    "        os_method = SMOTE()\n",
    "    X, y = os_method.fit_sample(X, y)\n",
    "    return(X,y)\n",
    "    "
   ]
  },
  {
   "cell_type": "code",
   "execution_count": 4,
   "metadata": {},
   "outputs": [
    {
     "name": "stdout",
     "output_type": "stream",
     "text": [
      "ALIGNED:\n",
      "Training Features shape:  (307511, 232)\n",
      "Testing Features shape:  (48744, 231)\n",
      "Training Data Shape:  (307511, 230)\n",
      "Testing Data Shape:  (48744, 230)\n",
      "NORMALISED:\n",
      "Training data shape:  (567341, 230)\n",
      "Testing data shape:  (48744, 230)\n"
     ]
    }
   ],
   "source": [
    "train_X, test_X , train_Y= align_data(train_data, test_data)\n",
    "train_X = train_X.drop(columns=['TARGET'])\n",
    "train_X = train_X.drop(columns=['SK_ID_CURR'])\n",
    "test_X = test_X.drop(columns=['SK_ID_CURR'])\n",
    "print('Training Data Shape: ', train_X.shape); print('Testing Data Shape: ', test_X.shape)\n",
    "feature_names = train_X.columns\n",
    "train_X, train_Y = over_sample_ADASYN(train_X, train_Y)\n",
    "train_X, test_X = normalise(train_X, test_X)"
   ]
  },
  {
   "cell_type": "code",
   "execution_count": 5,
   "metadata": {},
   "outputs": [],
   "source": [
    "def baseline_log_reg(train, train_Y, test, save_path):\n",
    "    # Make the model with the specified regularization parameter\n",
    "    model = LogisticRegression(C=0.1)\n",
    "\n",
    "    # Train on the training data\n",
    "    model.fit(train, train_Y)\n",
    "\n",
    "    # Make predictions - only require 2nd columns (representing the probability that the target is 1)\n",
    "    predictions = model.predict_proba(test)[:, 1]\n",
    "\n",
    "    if save_path is not None:\n",
    "        # Save model\n",
    "        save_pickle(save_path, model)  # save model\n",
    "        print(\"Log reg baseline model saved to: \", save_path)\n",
    "\n",
    "    return model, predictions"
   ]
  },
  {
   "cell_type": "code",
   "execution_count": 6,
   "metadata": {},
   "outputs": [
    {
     "name": "stdout",
     "output_type": "stream",
     "text": [
      "Run 0 AUC socre: 0.764976461563245\n",
      "Run 1 AUC socre: 0.7639137941361445\n",
      "Run 2 AUC socre: 0.7649345780691115\n",
      "Run 3 AUC socre: 0.7671141743087142\n",
      "Run 4 AUC socre: 0.7665019388118048\n",
      "Run 5 AUC socre: 0.7613137371409889\n",
      "Avg ROC AUC score: 0.7647924473383347\n"
     ]
    },
    {
     "data": {
      "image/png": "[encoded data removed]",
      "text/plain": [
       "<Figure size 432x288 with 1 Axes>"
      ]
     },
     "metadata": {},
     "output_type": "display_data"
    }
   ],
   "source": [
    "model, predictions = baseline_log_reg(train_X, train_Y, test_X, save_path=None) # don't save model\n",
    "cross_val_roc_curve(train_X, train_Y, model)"
   ]
  }
 ],
 "metadata": {
  "kernelspec": {
   "display_name": "Python 3",
   "language": "python",
   "name": "python3"
  },
  "language_info": {
   "codemirror_mode": {
    "name": "ipython",
    "version": 3
   },
   "file_extension": ".py",
   "mimetype": "text/x-python",
   "name": "python",
   "nbconvert_exporter": "python",
   "pygments_lexer": "ipython3",
   "version": "3.6.5"
  }
 },
 "nbformat": 4,
 "nbformat_minor": 2
}
