{
 "cells": [
  {
   "cell_type": "code",
   "execution_count": null,
   "metadata": {},
   "outputs": [],
   "source": [
    "'''\n",
    "Combines other dataframes\n",
    "Uses feature tools for deep feature synthesis\n",
    "'''"
   ]
  },
  {
   "cell_type": "code",
   "execution_count": 1,
   "metadata": {},
   "outputs": [],
   "source": [
    "# pandas and numpy for data manipulation\n",
    "import pandas as pd\n",
    "import numpy as np\n",
    "\n",
    "# featuretools for automated feature engineering\n",
    "import featuretools as ft\n",
    "\n",
    "# Suppress warnings from pandas\n",
    "import warnings\n",
    "warnings.filterwarnings('ignore')\n",
    "\n",
    "# imports\n",
    "from utils import *\n",
    "from models import *"
   ]
  },
  {
   "cell_type": "code",
   "execution_count": 2,
   "metadata": {},
   "outputs": [],
   "source": [
    "# read in data - limit to 1000 rows for now\n",
    "app_train = pd.read_csv('../input/application_train.csv').sort_values('SK_ID_CURR').reset_index(drop = True)#.loc[:1000, :]\n",
    "app_test = pd.read_csv('../input/application_test.csv').sort_values('SK_ID_CURR').reset_index(drop = True).loc[:1000, :]\n",
    "bureau = pd.read_csv('../input/bureau.csv').sort_values(['SK_ID_CURR', 'SK_ID_BUREAU']).reset_index(drop = True).loc[:1000, :]\n",
    "bureau_balance = pd.read_csv('../input/bureau_balance.csv').sort_values('SK_ID_BUREAU').reset_index(drop = True).loc[:1000, :]\n",
    "\n"
   ]
  },
  {
   "cell_type": "code",
   "execution_count": 3,
   "metadata": {},
   "outputs": [],
   "source": [
    "# Combine the train and test to a single df (stack train on test). This means all processing can be done on both in 1 go\n",
    "# LEAKING MAY BE A ISSUE!\n",
    "def combine_app_train_test(train, test):\n",
    "    # Add identifying column\n",
    "    train['set'] = 'train'\n",
    "    test['set'] = 'test'\n",
    "    test[\"TARGET\"] = np.nan\n",
    "\n",
    "    # Append the dataframes\n",
    "    app = train.append(test, ignore_index = True)\n",
    "    return app\n",
    "\n",
    "app = combine_app_train_test(app_train, app_test)\n"
   ]
  },
  {
   "cell_type": "code",
   "execution_count": 4,
   "metadata": {},
   "outputs": [
    {
     "data": {
      "text/plain": [
       "Entityset: clients\n",
       "  Entities:\n",
       "    app [Rows: 308512, Columns: 123]\n",
       "    bureau [Rows: 1001, Columns: 17]\n",
       "    bureau_balance [Rows: 1001, Columns: 4]\n",
       "  Relationships:\n",
       "    No relationships"
      ]
     },
     "execution_count": 4,
     "metadata": {},
     "output_type": "execute_result"
    }
   ],
   "source": [
    "# Instantiate a entity set (es) which will keep all data. Entity ~ table\n",
    "es = ft.EntitySet(id = 'clients')\n",
    "\n",
    "def add_entities(entity_set):\n",
    "    # Add the different entities (tables) to the entityset\n",
    "    entity_set = entity_set.entity_from_dataframe(entity_id = 'app', dataframe = app, index = 'SK_ID_CURR')\n",
    "    entity_set = entity_set.entity_from_dataframe(entity_id = 'bureau', dataframe = bureau, index = 'SK_ID_BUREAU')\n",
    "\n",
    "    # For entitites which do not have a unique index column, create one\n",
    "    # This will update the original dataframe with new indexes \n",
    "    entity_set = entity_set.entity_from_dataframe(entity_id = 'bureau_balance', dataframe = bureau_balance, \n",
    "                                  make_index = True, index = 'bureau_balance_index')\n",
    "    return entity_set\n",
    "\n",
    "es = add_entities(es)\n",
    "es"
   ]
  },
  {
   "cell_type": "code",
   "execution_count": 5,
   "metadata": {},
   "outputs": [],
   "source": [
    "def add_relationships(entity_set):\n",
    "    # Relationship between app and bureau\n",
    "    rel_app_bureau = ft.Relationship(entity_set['app']['SK_ID_CURR'], entity_set['bureau']['SK_ID_CURR'])\n",
    "\n",
    "    # Relationship between bureau and bureau balance\n",
    "    rel_bureau_balance = ft.Relationship(entity_set['bureau']['SK_ID_BUREAU'], entity_set['bureau_balance']['SK_ID_BUREAU'])\n",
    "\n",
    "    # Add in the defined relationships\n",
    "    entity_set = entity_set.add_relationships([rel_app_bureau, rel_bureau_balance])\n",
    "    return entity_set\n",
    "\n",
    "es = add_relationships(es)"
   ]
  },
  {
   "cell_type": "code",
   "execution_count": 69,
   "metadata": {},
   "outputs": [
    {
     "name": "stdout",
     "output_type": "stream",
     "text": [
      "243 Total Features\n"
     ]
    }
   ],
   "source": [
    "# # Default primitives from featuretools\n",
    "# default_agg_primitives =  [\"sum\", \"std\", \"max\", \"skew\", \"min\", \"mean\", \"count\", \"mode\"]\n",
    "# default_trans_primitives = []\n",
    "# # default_trans_primitives =  [\"day\", \"year\", \"month\"]\n",
    "\n",
    "# # DFS with specified primitives\n",
    "# feature_names = ft.dfs(entityset = es, target_entity = 'app',\n",
    "#                        trans_primitives = default_trans_primitives,\n",
    "#                        agg_primitives=default_agg_primitives, \n",
    "#                        max_depth = 2, features_only=True)\n",
    "\n",
    "# print('%d Total Features' % len(feature_names))"
   ]
  },
  {
   "cell_type": "code",
   "execution_count": 6,
   "metadata": {},
   "outputs": [
    {
     "name": "stdout",
     "output_type": "stream",
     "text": [
      "Built 243 features\n",
      "Elapsed: 00:08 | Remaining: 00:00 | Progress: 100%|██████████████████████████████████████████| Calculated: 11/11 chunks\n",
      "            AMT_ANNUITY  AMT_CREDIT  AMT_GOODS_PRICE  AMT_INCOME_TOTAL  \\\n",
      "SK_ID_CURR                                                               \n",
      "100001          20560.5    568800.0         450000.0          135000.0   \n",
      "100002          24700.5    406597.5         351000.0          202500.0   \n",
      "100003          35698.5   1293502.5        1129500.0          270000.0   \n",
      "100004           6750.0    135000.0         135000.0           67500.0   \n",
      "100005          17370.0    222768.0         180000.0           99000.0   \n",
      "100006          29686.5    312682.5         297000.0          135000.0   \n",
      "100007          21865.5    513000.0         513000.0          121500.0   \n",
      "100008          27517.5    490495.5         454500.0           99000.0   \n",
      "100009          41301.0   1560726.0        1395000.0          171000.0   \n",
      "100010          42075.0   1530000.0        1530000.0          360000.0   \n",
      "\n",
      "            AMT_REQ_CREDIT_BUREAU_DAY  AMT_REQ_CREDIT_BUREAU_HOUR  \\\n",
      "SK_ID_CURR                                                          \n",
      "100001                            0.0                         0.0   \n",
      "100002                            0.0                         0.0   \n",
      "100003                            0.0                         0.0   \n",
      "100004                            0.0                         0.0   \n",
      "100005                            0.0                         0.0   \n",
      "100006                            NaN                         NaN   \n",
      "100007                            0.0                         0.0   \n",
      "100008                            0.0                         0.0   \n",
      "100009                            0.0                         0.0   \n",
      "100010                            0.0                         0.0   \n",
      "\n",
      "            AMT_REQ_CREDIT_BUREAU_MON  AMT_REQ_CREDIT_BUREAU_QRT  \\\n",
      "SK_ID_CURR                                                         \n",
      "100001                            0.0                        0.0   \n",
      "100002                            0.0                        0.0   \n",
      "100003                            0.0                        0.0   \n",
      "100004                            0.0                        0.0   \n",
      "100005                            0.0                        0.0   \n",
      "100006                            NaN                        NaN   \n",
      "100007                            0.0                        0.0   \n",
      "100008                            0.0                        1.0   \n",
      "100009                            1.0                        1.0   \n",
      "100010                            0.0                        0.0   \n",
      "\n",
      "            AMT_REQ_CREDIT_BUREAU_WEEK  AMT_REQ_CREDIT_BUREAU_YEAR  \\\n",
      "SK_ID_CURR                                                           \n",
      "100001                             0.0                         0.0   \n",
      "100002                             0.0                         1.0   \n",
      "100003                             0.0                         0.0   \n",
      "100004                             0.0                         0.0   \n",
      "100005                             0.0                         3.0   \n",
      "100006                             NaN                         NaN   \n",
      "100007                             0.0                         0.0   \n",
      "100008                             0.0                         1.0   \n",
      "100009                             0.0                         2.0   \n",
      "100010                             0.0                         0.0   \n",
      "\n",
      "                              ...                     \\\n",
      "SK_ID_CURR                    ...                      \n",
      "100001                        ...                      \n",
      "100002                        ...                      \n",
      "100003                        ...                      \n",
      "100004                        ...                      \n",
      "100005                        ...                      \n",
      "100006                        ...                      \n",
      "100007                        ...                      \n",
      "100008                        ...                      \n",
      "100009                        ...                      \n",
      "100010                        ...                      \n",
      "\n",
      "            MIN(bureau.MEAN(bureau_balance.MONTHS_BALANCE))  \\\n",
      "SK_ID_CURR                                                    \n",
      "100001                                                  NaN   \n",
      "100002                                                  NaN   \n",
      "100003                                                  NaN   \n",
      "100004                                                  NaN   \n",
      "100005                                                  NaN   \n",
      "100006                                                  NaN   \n",
      "100007                                                  NaN   \n",
      "100008                                                  NaN   \n",
      "100009                                                  NaN   \n",
      "100010                                                  NaN   \n",
      "\n",
      "            MIN(bureau.COUNT(bureau_balance))  \\\n",
      "SK_ID_CURR                                      \n",
      "100001                                    0.0   \n",
      "100002                                    0.0   \n",
      "100003                                    0.0   \n",
      "100004                                    0.0   \n",
      "100005                                    0.0   \n",
      "100006                                    NaN   \n",
      "100007                                    0.0   \n",
      "100008                                    0.0   \n",
      "100009                                    0.0   \n",
      "100010                                    0.0   \n",
      "\n",
      "            MEAN(bureau.SUM(bureau_balance.MONTHS_BALANCE))  \\\n",
      "SK_ID_CURR                                                    \n",
      "100001                                                  0.0   \n",
      "100002                                                  0.0   \n",
      "100003                                                  0.0   \n",
      "100004                                                  0.0   \n",
      "100005                                                  0.0   \n",
      "100006                                                  NaN   \n",
      "100007                                                  0.0   \n",
      "100008                                                  0.0   \n",
      "100009                                                  0.0   \n",
      "100010                                                  0.0   \n",
      "\n",
      "            MEAN(bureau.STD(bureau_balance.MONTHS_BALANCE))  \\\n",
      "SK_ID_CURR                                                    \n",
      "100001                                                  NaN   \n",
      "100002                                                  NaN   \n",
      "100003                                                  NaN   \n",
      "100004                                                  NaN   \n",
      "100005                                                  NaN   \n",
      "100006                                                  NaN   \n",
      "100007                                                  NaN   \n",
      "100008                                                  NaN   \n",
      "100009                                                  NaN   \n",
      "100010                                                  NaN   \n",
      "\n",
      "            MEAN(bureau.MAX(bureau_balance.MONTHS_BALANCE))  \\\n",
      "SK_ID_CURR                                                    \n",
      "100001                                                  NaN   \n",
      "100002                                                  NaN   \n",
      "100003                                                  NaN   \n",
      "100004                                                  NaN   \n",
      "100005                                                  NaN   \n",
      "100006                                                  NaN   \n",
      "100007                                                  NaN   \n",
      "100008                                                  NaN   \n",
      "100009                                                  NaN   \n",
      "100010                                                  NaN   \n",
      "\n",
      "            MEAN(bureau.SKEW(bureau_balance.MONTHS_BALANCE))  \\\n",
      "SK_ID_CURR                                                     \n",
      "100001                                                   NaN   \n",
      "100002                                                   NaN   \n",
      "100003                                                   NaN   \n",
      "100004                                                   NaN   \n",
      "100005                                                   NaN   \n",
      "100006                                                   NaN   \n",
      "100007                                                   NaN   \n",
      "100008                                                   NaN   \n",
      "100009                                                   NaN   \n",
      "100010                                                   NaN   \n",
      "\n",
      "            MEAN(bureau.MIN(bureau_balance.MONTHS_BALANCE))  \\\n",
      "SK_ID_CURR                                                    \n",
      "100001                                                  NaN   \n",
      "100002                                                  NaN   \n",
      "100003                                                  NaN   \n",
      "100004                                                  NaN   \n",
      "100005                                                  NaN   \n",
      "100006                                                  NaN   \n",
      "100007                                                  NaN   \n",
      "100008                                                  NaN   \n",
      "100009                                                  NaN   \n",
      "100010                                                  NaN   \n",
      "\n",
      "            MEAN(bureau.MEAN(bureau_balance.MONTHS_BALANCE))  \\\n",
      "SK_ID_CURR                                                     \n",
      "100001                                                   NaN   \n",
      "100002                                                   NaN   \n",
      "100003                                                   NaN   \n",
      "100004                                                   NaN   \n",
      "100005                                                   NaN   \n",
      "100006                                                   NaN   \n",
      "100007                                                   NaN   \n",
      "100008                                                   NaN   \n",
      "100009                                                   NaN   \n",
      "100010                                                   NaN   \n",
      "\n",
      "           MEAN(bureau.COUNT(bureau_balance))  \\\n",
      "SK_ID_CURR                                      \n",
      "100001                                    0.0   \n",
      "100002                                    0.0   \n",
      "100003                                    0.0   \n",
      "100004                                    0.0   \n",
      "100005                                    0.0   \n",
      "100006                                    NaN   \n",
      "100007                                    0.0   \n",
      "100008                                    0.0   \n",
      "100009                                    0.0   \n",
      "100010                                    0.0   \n",
      "\n",
      "            MODE(bureau.MODE(bureau_balance.STATUS))  \n",
      "SK_ID_CURR                                            \n",
      "100001                                           NaN  \n",
      "100002                                           NaN  \n",
      "100003                                           NaN  \n",
      "100004                                           NaN  \n",
      "100005                                           NaN  \n",
      "100006                                           NaN  \n",
      "100007                                           NaN  \n",
      "100008                                           NaN  \n",
      "100009                                           NaN  \n",
      "100010                                           NaN  \n",
      "\n"
     ]
    },
    {
     "name": "stdout",
     "output_type": "stream",
     "text": [
      "[10 rows x 243 columns]\n"
     ]
    }
   ],
   "source": [
    "def create_deep_synthetic_features(entity_set, agg_primitives, trans_primitives=[], target_entity='app', max_depth = 2):\n",
    "    # DFS with default primitives\n",
    "    features, feature_names = ft.dfs(entityset = entity_set, target_entity = target_entity,\n",
    "                                           trans_primitives = trans_primitives,\n",
    "                                           agg_primitives=agg_primitives, \n",
    "                                            max_depth = 2, features_only=False, verbose = True)\n",
    "\n",
    "    # pd.options.display.max_columns = 1700\n",
    "#     features.head(10)\n",
    "    return features\n",
    "\n",
    "default_agg_primitives =  [\"sum\", \"std\", \"max\", \"skew\", \"min\", \"mean\", \"count\", \"mode\"]\n",
    "default_trans_primitives = []\n",
    "ds_features = create_deep_synthetic_features(es, default_agg_primitives, default_trans_primitives)"
   ]
  },
  {
   "cell_type": "code",
   "execution_count": 7,
   "metadata": {},
   "outputs": [
    {
     "name": "stdout",
     "output_type": "stream",
     "text": [
      "Removed 35 features\n"
     ]
    }
   ],
   "source": [
    "from featuretools import selection\n",
    "# Remove features with only one unique value\n",
    "all_ds_features = ds_features\n",
    "ds_features = selection.remove_low_information_features(ds_features)\n",
    "\n",
    "print('Removed %d features' % (all_ds_features.shape[1]- ds_features.shape[1]))"
   ]
  },
  {
   "cell_type": "code",
   "execution_count": 8,
   "metadata": {},
   "outputs": [
    {
     "name": "stdout",
     "output_type": "stream",
     "text": [
      "Training Shape:  (307511, 207)\n",
      "Testing Shape:  (1001, 206)\n"
     ]
    }
   ],
   "source": [
    "# Separate out the train and test sets\n",
    "train = ds_features[ds_features['set'] == 'train']\n",
    "test = ds_features[ds_features['set'] == 'test']\n",
    "\n",
    "# # One hot encoding\n",
    "# train = pd.get_dummies(train)\n",
    "# test = pd.get_dummies(test)\n",
    "\n",
    "# # Align dataframes on the columns\n",
    "# train, test = train.align(test, join = 'inner', axis = 1)\n",
    "train = train.drop(columns = ['set'])\n",
    "\n",
    "test = test.drop(columns = ['TARGET'])\n",
    "test = test.drop(columns = ['set'])\n",
    "\n",
    "print('Training Shape: ', train.shape)\n",
    "print('Testing Shape: ', test.shape)"
   ]
  },
  {
   "cell_type": "code",
   "execution_count": 20,
   "metadata": {},
   "outputs": [
    {
     "name": "stdout",
     "output_type": "stream",
     "text": [
      "ONE HOT ENCODED\n",
      "Training Features shape:  (307511, 336)\n",
      "Testing Features shape:  (1001, 313)\n",
      "ALIGNED:\n",
      "Training Features shape:  (307511, 314)\n",
      "Testing Features shape:  (1001, 313)\n",
      "There were 182 anomalies in the test data out of 1001 entries\n",
      "Training Features shape:  (307511, 236)\n",
      "Testing Features shape:  (1001, 314)\n",
      "Training Features shape:  (307511, 236)\n",
      "Testing Features shape:  (1001, 235)\n"
     ]
    },
    {
     "data": {
      "image/png": "[encoded data removed]",
      "text/plain": [
       "<Figure size 432x288 with 1 Axes>"
      ]
     },
     "metadata": {},
     "output_type": "display_data"
    }
   ],
   "source": [
    "# do basic pre-processing\n",
    "def pre_process(train_data, test_data):\n",
    "#     train_data, test_data = encode_binary_cols(train_data, test_data) # purposefully left out - was taking too long\n",
    "    train_data, test_data = one_hot_encode(train_data, test_data)\n",
    "    train_data, test_data, train_Y = align_data(train_data, test_data)\n",
    "    train_data, test_data = remove_days_employed_anomaly(train_data, test_data)\n",
    "    train_data, test_data = remove_missing_cols(train_data, test_data)\n",
    "    \n",
    "    train_data = mean_impute(train_data)\n",
    "    test_data = mean_impute(test_data)\n",
    "\n",
    "    return train_data, test_data\n",
    "\n",
    "train_data, test_data = pre_process(train, test)"
   ]
  },
  {
   "cell_type": "code",
   "execution_count": 22,
   "metadata": {},
   "outputs": [
    {
     "name": "stdout",
     "output_type": "stream",
     "text": [
      "ALIGNED:\n",
      "Training Features shape:  (307511, 236)\n",
      "Testing Features shape:  (1001, 235)\n",
      "Training Data Shape:  (307511, 235)\n",
      "Testing Data Shape:  (1001, 235)\n"
     ]
    },
    {
     "name": "stderr",
     "output_type": "stream",
     "text": [
      "C:\\Users\\Bhumika\\Anaconda3\\lib\\site-packages\\sklearn\\preprocessing\\data.py:323: DataConversionWarning: Data with input dtype bool, uint8, int64, float64 were all converted to float64 by MinMaxScaler.\n",
      "  return self.partial_fit(X, y)\n"
     ]
    },
    {
     "name": "stdout",
     "output_type": "stream",
     "text": [
      "NORMALISED:\n",
      "Training data shape:  (307511, 235)\n",
      "Testing data shape:  (1001, 235)\n"
     ]
    }
   ],
   "source": [
    "# Do final processing to get aligned train and test set with training labels \n",
    "train_X, test_X , train_Y= align_data(train_data, test_data)\n",
    "train_X = train_X.drop(columns=['TARGET'])\n",
    "# train_X = train_X.drop(columns=['SK_ID_CURR'])\n",
    "# test_X = test_X.drop(columns=['SK_ID_CURR'])\n",
    "print('Training Data Shape: ', train_X.shape)\n",
    "print('Testing Data Shape: ', test_X.shape)\n",
    "feature_names = train_X.columns\n",
    "# train_X, train_Y = oversample(train_X, train_Y)\n",
    "train_X, test_X = normalise(train_X, test_X)"
   ]
  },
  {
   "cell_type": "code",
   "execution_count": 23,
   "metadata": {},
   "outputs": [
    {
     "name": "stdout",
     "output_type": "stream",
     "text": [
      "Run 0 AUC socre: 0.6874635948044611\n",
      "Run 1 AUC socre: 0.682588631305188\n",
      "Run 2 AUC socre: 0.6836251562466884\n",
      "Run 3 AUC socre: 0.6915692043006093\n",
      "Run 4 AUC socre: 0.6776297789995207\n",
      "Run 5 AUC socre: 0.6793329442934708\n",
      "Avg ROC AUC score: 0.683701551658323\n"
     ]
    },
    {
     "data": {
      "image/png": "[encoded data removed]",
      "text/plain": [
       "<Figure size 432x288 with 1 Axes>"
      ]
     },
     "metadata": {},
     "output_type": "display_data"
    }
   ],
   "source": [
    "model, predictions = baseline_log_reg(train_X, train_Y, test_X, save_path=None) # don't save model\n",
    "cross_val_roc_curve(train_X, train_Y.values, model)"
   ]
  }
 ],
 "metadata": {
  "kernelspec": {
   "display_name": "Python 3",
   "language": "python",
   "name": "python3"
  },
  "language_info": {
   "codemirror_mode": {
    "name": "ipython",
    "version": 3
   },
   "file_extension": ".py",
   "mimetype": "text/x-python",
   "name": "python",
   "nbconvert_exporter": "python",
   "pygments_lexer": "ipython3",
   "version": "3.6.5"
  }
 },
 "nbformat": 4,
 "nbformat_minor": 2
}
